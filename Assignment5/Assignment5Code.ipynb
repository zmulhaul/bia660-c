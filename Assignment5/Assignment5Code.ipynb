{
 "cells": [
  {
   "cell_type": "code",
   "execution_count": null,
   "metadata": {
    "collapsed": true
   },
   "outputs": [],
   "source": [
    "import bs4\n",
    "from selenium import webdriver\n",
    "from selenium.webdriver.common.action_chains import ActionChains\n",
    "from selenium.webdriver.common.keys import Keys"
   ]
  },
  {
   "cell_type": "code",
   "execution_count": 2,
   "metadata": {
    "collapsed": true
   },
   "outputs": [],
   "source": [
    "driver = webdriver.Chrome()\n",
    "driver.get('https://www.google.com/flights/explore/')"
   ]
  },
  {
   "cell_type": "code",
   "execution_count": 27,
   "metadata": {
    "collapsed": true
   },
   "outputs": [],
   "source": [
    "to_input = driver.find_element_by_xpath('//*[@id=\"root\"]/div[3]/div[3]/div/div[4]/div/div')\n",
    "to_input.click()"
   ]
  },
  {
   "cell_type": "code",
   "execution_count": 28,
   "metadata": {
    "collapsed": true
   },
   "outputs": [],
   "source": [
    "actions = ActionChains(driver)\n",
    "#implement code from \"from place\" might not use New York which is the default\n",
    "\n",
    "#implement code for to location\n",
    "actions.send_keys('Mexico')\n",
    "\n",
    "\n",
    "actions.send_keys(Keys.ENTER)\n",
    "actions.perform()"
   ]
  },
  {
   "cell_type": "code",
   "execution_count": 34,
   "metadata": {
    "collapsed": false
   },
   "outputs": [
    {
     "name": "stdout",
     "output_type": "stream",
     "text": [
      "11\n"
     ]
    },
    {
     "data": {
      "text/plain": [
       "[<selenium.webdriver.remote.webelement.WebElement (session=\"751eeb54c29f903a66478d6ba6d3dd0d\", element=\"0.062640673814927-2\")>,\n",
       " <selenium.webdriver.remote.webelement.WebElement (session=\"751eeb54c29f903a66478d6ba6d3dd0d\", element=\"0.062640673814927-3\")>]"
      ]
     },
     "execution_count": 34,
     "metadata": {},
     "output_type": "execute_result"
    }
   ],
   "source": [
    "results = driver.find_elements_by_class_name('LJTSM3-v-d')\n",
    "test = results[0]\n",
    "bars = test.find_elements_by_class_name('LJTSM3-w-x')\n",
    "print len(results)\n",
    "results[:2]"
   ]
  },
  {
   "cell_type": "code",
   "execution_count": 35,
   "metadata": {
    "collapsed": false
   },
   "outputs": [
    {
     "data": {
      "text/plain": [
       "u'Best price $247\\nNonstop $247\\nCanc\\xfan, Mexico\\n$606\\n$247\\nApril\\nMay'"
      ]
     },
     "execution_count": 35,
     "metadata": {},
     "output_type": "execute_result"
    }
   ],
   "source": [
    "test.text"
   ]
  },
  {
   "cell_type": "code",
   "execution_count": 40,
   "metadata": {
    "collapsed": false
   },
   "outputs": [],
   "source": [
    "import time\n",
    "data = []\n",
    "\n",
    "for bar in bars:\n",
    "    ActionChains(driver).move_to_element(bar).perform()\n",
    "    time.sleep(0.001)\n",
    "    data.append((test.find_element_by_class_name('LJTSM3-w-k').find_elements_by_tag_name('div')[0].text,\n",
    "           test.find_element_by_class_name('LJTSM3-w-k').find_elements_by_tag_name('div')[1].text))"
   ]
  },
  {
   "cell_type": "code",
   "execution_count": 15,
   "metadata": {
    "collapsed": false
   },
   "outputs": [
    {
     "name": "stdout",
     "output_type": "stream",
     "text": [
      "[(u'$281', u'Sun Apr 2 - Wed Apr 5'), (u'$281', u'Mon Apr 3 - Sat Apr 8'), (u'$281', u'Tue Apr 4 - Sat Apr 8'), (u'$281', u'Wed Apr 5 - Mon Apr 10'), (u'$384', u'Thu Apr 6 - Sun Apr 9')]\n"
     ]
    },
    {
     "data": {
      "text/plain": [
       "[(u'$415', u'Sat May 27 - Thu Jun 1'),\n",
       " (u'$315', u'Sun May 28 - Thu Jun 1'),\n",
       " (u'$302', u'Mon May 29 - Fri Jun 2'),\n",
       " (u'$302', u'Tue May 30 - Fri Jun 2'),\n",
       " (u'$368', u'Wed May 31 - Sat Jun 3')]"
      ]
     },
     "execution_count": 15,
     "metadata": {},
     "output_type": "execute_result"
    }
   ],
   "source": [
    "print data[:5]\n",
    "data[-5:]"
   ]
  },
  {
   "cell_type": "code",
   "execution_count": 41,
   "metadata": {
    "collapsed": true
   },
   "outputs": [],
   "source": [
    "import pandas as pd\n",
    "import datetime\n",
    "%matplotlib inline\n",
    "from dateutil.parser import parse\n",
    "d = data[0]\n",
    "clean_data = [(float(d[0].replace('$', '').replace(',', '')), (parse(d[1].split('-')[0].strip()) - datetime.datetime(2017,3,13,0,0)).days, reduce(lambda x,y: y-x, [parse(x.strip()) for x in d[1].split('-')]).days) for d in data]"
   ]
  },
  {
   "cell_type": "code",
   "execution_count": 42,
   "metadata": {
    "collapsed": true
   },
   "outputs": [],
   "source": [
    "df = pd.DataFrame(clean_data, columns=['Price', 'Start_Date', 'Trip_Length'])"
   ]
  },
  {
   "cell_type": "code",
   "execution_count": 53,
   "metadata": {
    "collapsed": false
   },
   "outputs": [
    {
     "data": {
      "image/png": "[encoded data removed]",
      "text/plain": [
       "<matplotlib.figure.Figure at 0x1161f5ad0>"
      ]
     },
     "metadata": {},
     "output_type": "display_data"
    }
   ],
   "source": [
    "import matplotlib\n",
    "import matplotlib.pyplot as plt\n",
    "\n",
    "matplotlib.style.use('ggplot')\n",
    "\n",
    "# Pandas has a ton of built-in visualizations\n",
    "# Play and Learn\n",
    "# http://pandas.pydata.org/pandas-docs/stable/visualization.html\n",
    "df.plot.scatter(x='Start_Date', y='Price')\n",
    "\n",
    "df = df.set_value(49, 'Price', 55)\n",
    "# Time for a Google Investigation\n",
    "# \"IQR Outlier\""
   ]
  },
  {
   "cell_type": "code",
   "execution_count": 48,
   "metadata": {
    "collapsed": true
   },
   "outputs": [],
   "source": [
    ""
   ]
  }
 ],
 "metadata": {
  "anaconda-cloud": {},
  "kernelspec": {
   "display_name": "Python [conda root]",
   "language": "python",
   "name": "conda-root-py"
  },
  "language_info": {
   "codemirror_mode": {
    "name": "ipython",
    "version": 2.0
   },
   "file_extension": ".py",
   "mimetype": "text/x-python",
   "name": "python",
   "nbconvert_exporter": "python",
   "pygments_lexer": "ipython2",
   "version": "2.7.12"
  }
 },
 "nbformat": 4,
 "nbformat_minor": 0
}